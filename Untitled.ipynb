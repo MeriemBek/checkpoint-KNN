{
 "cells": [
  {
   "cell_type": "code",
   "execution_count": 1,
   "id": "6d32ad2d",
   "metadata": {},
   "outputs": [],
   "source": [
    "import pandas as pd\n",
    "import numpy as np\n",
    "import matplotlib.pyplot as plt\n",
    "from statistics import mode\n",
    "import seaborn as sns\n",
    "import os\n",
    "import scipy.stats as st \n",
    "from sklearn import preprocessing\n",
    "from sklearn.model_selection import train_test_split\n",
    "from sklearn.linear_model import LogisticRegression\n",
    "from sklearn import metrics\n",
    "from sklearn.metrics import classification_report\n",
    "%matplotlib inline"
   ]
  },
  {
   "cell_type": "code",
   "execution_count": 55,
   "id": "61a2632b",
   "metadata": {},
   "outputs": [
    {
     "name": "stdout",
     "output_type": "stream",
     "text": [
      "[['6.1', '2.8', '4', '1.3', 'Versicolor'], ['7.1', '3', '5.9', '2.1', 'Virginica'], ['5', '3.5', '1.3', '.3', 'Setosa'], ['6.9', '3.1', '4.9', '1.5', 'Versicolor'], ['6.8', '3', '5.5', '2.1', 'Virginica'], ['7.7', '2.6', '6.9', '2.3', 'Virginica'], ['5.5', '2.3', '4', '1.3', 'Versicolor'], ['7.2', '3', '5.8', '1.6', 'Virginica'], ['5', '3.4', '1.6', '.4', 'Setosa'], ['6.7', '3.1', '4.4', '1.4', 'Versicolor'], ['7.2', '3.2', '6', '1.8', 'Virginica'], ['6.6', '3', '4.4', '1.4', 'Versicolor'], ['6.7', '3.1', '4.7', '1.5', 'Versicolor'], ['4.4', '3', '1.3', '.2', 'Setosa'], ['6.4', '3.1', '5.5', '1.8', 'Virginica'], ['4.9', '3.1', '1.5', '.2', 'Setosa'], ['5', '3.6', '1.4', '.2', 'Setosa'], ['7.3', '2.9', '6.3', '1.8', 'Virginica'], ['4.3', '3', '1.1', '.1', 'Setosa'], ['4.7', '3.2', '1.3', '.2', 'Setosa'], ['5', '3.5', '1.6', '.6', 'Setosa'], ['4.5', '2.3', '1.3', '.3', 'Setosa'], ['6', '3', '4.8', '1.8', 'Virginica'], ['4.9', '2.4', '3.3', '1', 'Versicolor'], ['4.8', '3.4', '1.9', '.2', 'Setosa'], ['5.1', '3.5', '1.4', '.3', 'Setosa'], ['5.8', '2.7', '4.1', '1', 'Versicolor'], ['6.4', '3.2', '4.5', '1.5', 'Versicolor'], ['7.7', '3.8', '6.7', '2.2', 'Virginica'], ['6.1', '3', '4.6', '1.4', 'Versicolor'], ['6.7', '3.3', '5.7', '2.5', 'Virginica'], ['5.9', '3', '5.1', '1.8', 'Virginica'], ['5.8', '2.6', '4', '1.2', 'Versicolor'], ['6.4', '2.8', '5.6', '2.2', 'Virginica'], ['7.7', '2.8', '6.7', '2', 'Virginica'], ['5.6', '3', '4.5', '1.5', 'Versicolor'], ['4.6', '3.1', '1.5', '.2', 'Setosa'], ['5.1', '3.8', '1.6', '.2', 'Setosa'], ['4.4', '2.9', '1.4', '.2', 'Setosa'], ['5.3', '3.7', '1.5', '.2', 'Setosa'], ['6.1', '2.9', '4.7', '1.4', 'Versicolor'], ['5.8', '2.7', '5.1', '1.9', 'Virginica'], ['5.7', '2.8', '4.5', '1.3', 'Versicolor'], ['5.6', '2.9', '3.6', '1.3', 'Versicolor'], ['6.9', '3.1', '5.1', '2.3', 'Virginica'], ['5.2', '3.4', '1.4', '.2', 'Setosa'], ['4.8', '3', '1.4', '.1', 'Setosa'], ['6', '3.4', '4.5', '1.6', 'Versicolor'], ['5.8', '2.7', '5.1', '1.9', 'Virginica'], ['5', '3', '1.6', '.2', 'Setosa'], ['6.9', '3.2', '5.7', '2.3', 'Virginica']]\n",
      "/////\n",
      "[['5.7', '3', '4.2', '1.2', 'Versicolor'], ['4.7', '3.2', '1.6', '.2', 'Setosa'], ['5', '3.4', '1.5', '.2', 'Setosa'], ['5.1', '3.3', '1.7', '.5', 'Setosa'], ['6.3', '3.3', '6', '2.5', 'Virginica'], ['4.6', '3.6', '1', '.2', 'Setosa'], ['5.4', '3.9', '1.7', '.4', 'Setosa'], ['5.4', '3.4', '1.7', '.2', 'Setosa'], ['6', '2.9', '4.5', '1.5', 'Versicolor'], ['6.7', '3.3', '5.7', '2.1', 'Virginica'], ['5.7', '2.6', '3.5', '1', 'Versicolor'], ['6.4', '2.9', '4.3', '1.3', 'Versicolor'], ['4.8', '3.1', '1.6', '.2', 'Setosa'], ['5', '3.3', '1.4', '.2', 'Setosa'], ['6.2', '2.8', '4.8', '1.8', 'Virginica'], ['5', '3.2', '1.2', '.2', 'Setosa'], ['6.2', '2.2', '4.5', '1.5', 'Versicolor'], ['6.3', '3.3', '4.7', '1.6', 'Versicolor'], ['6.3', '2.8', '5.1', '1.5', 'Virginica'], ['7.6', '3', '6.6', '2.1', 'Virginica'], ['5.6', '3', '4.1', '1.3', 'Versicolor'], ['5.1', '3.5', '1.4', '.2', 'Setosa'], ['5.8', '4', '1.2', '.2', 'Setosa'], ['5.8', '2.8', '5.1', '2.4', 'Virginica'], ['5.4', '3.4', '1.5', '.4', 'Setosa'], ['5.1', '3.4', '1.5', '.2', 'Setosa'], ['6.9', '3.1', '5.4', '2.1', 'Virginica'], ['5.5', '2.4', '3.8', '1.1', 'Versicolor'], ['5.9', '3.2', '4.8', '1.8', 'Versicolor'], ['5.1', '3.7', '1.5', '.4', 'Setosa'], ['5.9', '3', '4.2', '1.5', 'Versicolor'], ['6.3', '2.3', '4.4', '1.3', 'Versicolor'], ['5.7', '2.8', '4.1', '1.3', 'Versicolor'], ['5.7', '4.4', '1.5', '.4', 'Setosa'], ['5.1', '3.8', '1.9', '.4', 'Setosa'], ['5.5', '2.6', '4.4', '1.2', 'Versicolor'], ['4.8', '3.4', '1.6', '.2', 'Setosa'], ['6.4', '2.7', '5.3', '1.9', 'Virginica'], ['6.8', '2.8', '4.8', '1.4', 'Versicolor'], ['6.5', '3', '5.2', '2', 'Virginica'], ['5.8', '2.7', '3.9', '1.2', 'Versicolor'], ['5.5', '3.5', '1.3', '.2', 'Setosa'], ['6.3', '2.7', '4.9', '1.8', 'Virginica'], ['5.1', '3.8', '1.5', '.3', 'Setosa'], ['6', '2.7', '5.1', '1.6', 'Versicolor'], ['5.4', '3.7', '1.5', '.2', 'Setosa'], ['6.3', '2.9', '5.6', '1.8', 'Virginica'], ['6.7', '3', '5', '1.7', 'Versicolor'], ['5.4', '3.9', '1.3', '.4', 'Setosa'], ['6.5', '3.2', '5.1', '2', 'Virginica'], ['6', '2.2', '5', '1.5', 'Virginica'], ['4.6', '3.2', '1.4', '.2', 'Setosa'], ['6.3', '2.5', '5', '1.9', 'Virginica'], ['5', '2.3', '3.3', '1', 'Versicolor'], ['6.1', '3', '4.9', '1.8', 'Virginica'], ['6.2', '3.4', '5.4', '2.3', 'Virginica'], ['4.9', '3.6', '1.4', '.1', 'Setosa'], ['5.7', '2.5', '5', '2', 'Virginica'], ['5.5', '2.4', '3.7', '1', 'Versicolor'], ['4.8', '3', '1.4', '.3', 'Setosa'], ['6.8', '3.2', '5.9', '2.3', 'Virginica'], ['5.6', '2.8', '4.9', '2', 'Virginica'], ['4.9', '3.1', '1.5', '.1', 'Setosa'], ['6.7', '2.5', '5.8', '1.8', 'Virginica'], ['6', '2.2', '4', '1', 'Versicolor'], ['4.9', '3', '1.4', '.2', 'Setosa'], ['6.7', '3', '5.2', '2.3', 'Virginica'], ['6.4', '2.8', '5.6', '2.1', 'Virginica'], ['4.6', '3.4', '1.4', '.3', 'Setosa'], ['6.3', '3.4', '5.6', '2.4', 'Virginica'], ['6.5', '3', '5.8', '2.2', 'Virginica'], ['5.1', '2.5', '3', '1.1', 'Versicolor'], ['5.2', '4.1', '1.5', '.1', 'Setosa'], ['5.4', '3', '4.5', '1.5', 'Versicolor'], ['5', '2', '3.5', '1', 'Versicolor'], ['5.5', '2.5', '4', '1.3', 'Versicolor'], ['5.6', '2.5', '3.9', '1.1', 'Versicolor'], ['6.5', '3', '5.5', '1.8', 'Virginica'], ['6.3', '2.5', '4.9', '1.5', 'Versicolor'], ['5.2', '3.5', '1.5', '.2', 'Setosa'], ['6.4', '3.2', '5.3', '2.3', 'Virginica'], ['6.1', '2.6', '5.6', '1.4', 'Virginica'], ['4.4', '3.2', '1.3', '.2', 'Setosa'], ['7.9', '3.8', '6.4', '2', 'Virginica'], ['7.4', '2.8', '6.1', '1.9', 'Virginica'], ['6.2', '2.9', '4.3', '1.3', 'Versicolor'], ['6.6', '2.9', '4.6', '1.3', 'Versicolor'], ['7.2', '3.6', '6.1', '2.5', 'Virginica'], ['7', '3.2', '4.7', '1.4', 'Versicolor'], ['5.5', '4.2', '1.4', '.2', 'Setosa'], ['5.7', '2.9', '4.2', '1.3', 'Versicolor'], ['5.6', '2.7', '4.2', '1.3', 'Versicolor'], ['6.5', '2.8', '4.6', '1.5', 'Versicolor'], ['5.2', '2.7', '3.9', '1.4', 'Versicolor'], ['7.7', '3', '6.1', '2.3', 'Virginica'], ['5.7', '3.8', '1.7', '.3', 'Setosa'], ['6.1', '2.8', '4.7', '1.2', 'Versicolor'], ['4.9', '2.5', '4.5', '1.7', 'Virginica'], ['6.7', '3.1', '5.6', '2.4', 'Virginica']]\n"
     ]
    }
   ],
   "source": [
    "# import csv\n",
    "\n",
    "# with open('iris.data.txt', 'r') as csvfile:\n",
    "\n",
    "#     lines = csv.reader(csvfile)\n",
    "\n",
    "#     for row in lines :\n",
    "\n",
    "#         print (', '.join(row))\n",
    "\n",
    "# Next we need to split the data into a training dataset \n",
    "\n",
    "import csv\n",
    "\n",
    "import random\n",
    "\n",
    "def loadDataset(filename, split, trainingSet=[] , testSet=[]):\n",
    "\n",
    "    with open(filename, 'r') as csvfile:\n",
    "        next(csvfile)\n",
    "        lines = csv.reader(csvfile)\n",
    "\n",
    "        dataset = list(lines)\n",
    "   \n",
    "    trainingSet, testSet = train_test_split(dataset, test_size=split , shuffle = True)\n",
    "    return trainingSet, testSet\n",
    "# We can test this function out with our iris dataset, as follows:\n",
    "\n",
    "trainingSet, testSet = loadDataset('iris.data.txt', 0.66, trainingSet, testSet)\n",
    "print(trainingSet)\n",
    "print('/////')\n",
    "print(testSet)"
   ]
  },
  {
   "cell_type": "code",
   "execution_count": 43,
   "id": "f06fd206",
   "metadata": {},
   "outputs": [],
   "source": [
    "import math\n",
    "\n",
    "def euclideanDistance(instance1, instance2, length):\n",
    "    dis = 0\n",
    "    for i in range(length-1):\n",
    "        dis = dis + (float(instance1[i])-float(instance2[i]))**2\n",
    "    return math.sqrt(dis)\n",
    "\n",
    "# Note here that \n",
    "\n",
    "# number of elements in the instance1 =number of elements in the instance2 \n",
    "\n",
    "# the length refers to the number of elements in the instance1 \n",
    "\n",
    "# We can test this function with some sample data, as follows:\n",
    "\n",
    "# data1 = [2, 2, 2, 'a']\n",
    "\n",
    "# data2 = [4, 4, 4, 'b']\n",
    "\n",
    "# distance = euclideanDistance(data1, data2, 3)\n",
    "\n",
    "# print ('Distance: ' + repr(distance))\n",
    "\n",
    "# 3. Neighbors\n",
    "\n",
    "# Now that we have a similarity measure, we can use it to collect the k most similar instances for a given unseen instance.\n",
    "\n",
    "# This is a straightforward process of calculating the distance for all instances and selecting a subset with the smallest \n",
    "#distance values.\n",
    "\n",
    "# Below is the getNeighbors function that returns k most similar neighbors from the training set for a given test instance \n",
    "#(using the already defined euclideanDistance function)\n",
    "\n",
    "import operator\n",
    "\n",
    "def getNeighbors(trainingSet, testInstance, k):\n",
    "\n",
    "    distances = []\n",
    "\n",
    "    length = len(testInstance)-1\n",
    "\n",
    "    for x in range(len(trainingSet)):\n",
    "       \n",
    "        dist = euclideanDistance(testInstance, trainingSet[x], length)\n",
    "\n",
    "        distances.append((trainingSet[x], dist))\n",
    "\n",
    "        distances.sort(key=operator.itemgetter(1))\n",
    "\n",
    "    neighbors = []\n",
    "\n",
    "    for x in range(k):\n",
    "\n",
    "        neighbors.append(distances[x][0])\n",
    "\n",
    "    return neighbors\n",
    "\n",
    "# We can test out this function as follows:\n",
    "\n",
    "# trainSet = [[2, 2, 2, 'a'], [4, 4, 4, 'b']]\n",
    "\n",
    "# testInstance = [5, 5, 5]\n",
    "\n",
    "# k = 1\n",
    "\n",
    "# neighbors = getNeighbors(trainSet, testInstance, k)\n",
    "\n",
    "# print(neighbors)"
   ]
  },
  {
   "cell_type": "code",
   "execution_count": 4,
   "id": "be664d0b",
   "metadata": {},
   "outputs": [
    {
     "name": "stdout",
     "output_type": "stream",
     "text": [
      "a\n"
     ]
    }
   ],
   "source": [
    "import operator\n",
    "\n",
    "def getResponse(neighbors):\n",
    "\n",
    "    classVotes = {}\n",
    "    s = len(neighbors[0])-1\n",
    "    for x in range(len(neighbors)):\n",
    "\n",
    "        response = neighbors[x][s] #complete with appropriate number\n",
    "\n",
    "        if response in classVotes:\n",
    "\n",
    "            classVotes[response]= classVotes[response] +1\n",
    "        else:\n",
    "            classVotes[response] = 1\n",
    "\n",
    "    sortedVotes = sorted(classVotes.items(), key=operator.itemgetter(1), reverse=True)\n",
    "\n",
    "    return sortedVotes[0][0]\n",
    "\n",
    "# We can test out this function with some test neighbors, as follows:\n",
    "\n",
    "neighbors = [[1,1,1,'a'], [2,2,2,'a'], [3,3,3,'b'],[1,1,1,'c'], [2,2,2,'c'], [3,3,3,'b']]\n",
    "\n",
    "response = getResponse(neighbors)\n",
    "\n",
    "print(response)\n",
    "\n",
    "# This approach returns one response in the case of a draw, but you could handle such cases in a specific way,\n",
    "#such as returning no response or selecting an unbiased random response."
   ]
  },
  {
   "cell_type": "code",
   "execution_count": 5,
   "id": "d2925681",
   "metadata": {},
   "outputs": [
    {
     "name": "stdout",
     "output_type": "stream",
     "text": [
      "66.66666666666666\n"
     ]
    }
   ],
   "source": [
    "# # 5. Accuracy\n",
    "\n",
    "# # We have all of the pieces of the kNN algorithm in place. An important remaining concern is how to evaluate the accuracy\n",
    "# of predictions.\n",
    "\n",
    "# # An easy way to evaluate the accuracy of the model is to calculate a ratio of the total correct predictions out of \n",
    "# all predictions made, called the classification accuracy.\n",
    "\n",
    "# # Below is the getAccuracy function that sums the total correct predictions and returns the accuracy as a percentage\n",
    "# of correct classifications.\n",
    "\n",
    "def getAccuracy(testSet, predictions):\n",
    "    \n",
    "    s = len(testSet[0])-1\n",
    "    correct = 0\n",
    "    for i in range(0, len(predictions)) :\n",
    "        if predictions[i] == testSet[i][s]:\n",
    "            correct = correct+1\n",
    "            \n",
    "\n",
    "    return (correct/float(len(testSet))) * 100.0\n",
    "\n",
    "# # We can test this function with a test dataset and predictions, as follows:\n",
    "\n",
    "testSet = [[1,1,1,'a'], [2,2,2,'a'], [3,3,3,'b']]\n",
    "\n",
    "predictions = ['a', 'a', 'a']\n",
    "\n",
    "accuracy = getAccuracy(testSet, predictions)\n",
    "\n",
    "print(accuracy)"
   ]
  },
  {
   "cell_type": "code",
   "execution_count": 58,
   "id": "14da3924",
   "metadata": {},
   "outputs": [
    {
     "data": {
      "text/plain": [
       "0.0"
      ]
     },
     "execution_count": 58,
     "metadata": {},
     "output_type": "execute_result"
    }
   ],
   "source": [
    "#We now have all the elements of the algorithm you can put them all in one main function\n",
    "#Loading the Data\n",
    "#euclideanDistance(instance1, instance2, length):\n",
    "#getNeighbors(trainingSet, testInstance, k):\n",
    "#getResponse(neighbors):\n",
    "#getAccuracy(testSet, predictions):\n",
    "prediction = []\n",
    "     \n",
    "for item in testSet: \n",
    "             \n",
    "    neighbors = getNeighbors(trainSet,item,k)\n",
    "    \n",
    "    prediction.append(getResponse(neighbors))\n",
    "\n",
    "getAccuracy(testSet, prediction)"
   ]
  },
  {
   "cell_type": "code",
   "execution_count": 50,
   "id": "23f7956d",
   "metadata": {},
   "outputs": [],
   "source": [
    "def manhattanDistance(instance1, instance2, length) :\n",
    "    dis = 0\n",
    "    for i in range(length-1):\n",
    "        dis = dis + abs(float(instance1[i])-float(instance2[i]))\n",
    "    return dis"
   ]
  },
  {
   "cell_type": "code",
   "execution_count": null,
   "id": "b256674c",
   "metadata": {},
   "outputs": [],
   "source": []
  },
  {
   "cell_type": "code",
   "execution_count": null,
   "id": "cf10474b",
   "metadata": {},
   "outputs": [],
   "source": []
  },
  {
   "cell_type": "code",
   "execution_count": null,
   "id": "7939aed6",
   "metadata": {},
   "outputs": [],
   "source": []
  },
  {
   "cell_type": "code",
   "execution_count": null,
   "id": "dbac1208",
   "metadata": {},
   "outputs": [],
   "source": []
  }
 ],
 "metadata": {
  "kernelspec": {
   "display_name": "Python 3",
   "language": "python",
   "name": "python3"
  },
  "language_info": {
   "codemirror_mode": {
    "name": "ipython",
    "version": 3
   },
   "file_extension": ".py",
   "mimetype": "text/x-python",
   "name": "python",
   "nbconvert_exporter": "python",
   "pygments_lexer": "ipython3",
   "version": "3.8.8"
  }
 },
 "nbformat": 4,
 "nbformat_minor": 5
}
